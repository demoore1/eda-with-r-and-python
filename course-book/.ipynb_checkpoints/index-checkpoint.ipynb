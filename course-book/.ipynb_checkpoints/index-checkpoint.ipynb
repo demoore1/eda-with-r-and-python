{
 "cells": [
  {
   "cell_type": "markdown",
   "id": "544e0675-1ea1-40f0-922b-3ee01122eebe",
   "metadata": {},
   "source": [
    "```{thebe-button}\n",
    "\n",
    "```\n"
   ]
  },
  {
   "cell_type": "markdown",
   "id": "e552053f-7665-4be3-b7d1-d117794ee748",
   "metadata": {},
   "source": [
    "---\n",
    "<div align=\"center\">\n",
    "\n",
    "# Exploratory Data Analysis \n",
    "<!-- logo -->\n",
    "<img src=\"../slides/IDA-Logo.png\" alt=\"IDA Logo\" width=\"400\" style=\"margin-bottom: 1em;\"/>\n",
    "\n",
    "\n",
    "## An Introduction to EDA in R and Python for IDA Staff\n",
    "\n",
    "\n",
    "\n",
    "\n",
    "### Institute for Defense Analyses\n",
    "#### 730 East Glebe Road · Alexandria, Virginia 22305\n",
    "\n",
    "---\n",
    "</div>\n",
    "<audio controls src=\"../audio/EDA Intro.m4a\">\n",
    "\n"
   ]
  },
  {
   "cell_type": "markdown",
   "id": "3ada9aeb-2b75-408c-903c-e20bbca3d226",
   "metadata": {},
   "source": [
    "---\n",
    "<div style=\"display: flex; align-items: flex-start; gap: 2rem;\">\n",
    "\n",
    "  <!-- Left column: text -->\n",
    "  <div style=\"flex: 1; min-width: 0;\">\n",
    "\n",
    "  ### Exploratory Data Analysis\n",
    "\n",
    "  **What is Exploratory Data Analysis (EDA)?**  \n",
    "  - Systematic approach to summarizing and visualizing data before modeling  \n",
    "  - Helps uncover structure, spot anomalies, test assumptions  \n",
    "\n",
    "  **Key EDA Steps**  \n",
    "  - Data cleaning & handling missing values  \n",
    "  - Descriptive statistics (mean, median, variance)  \n",
    "  - Visual inspections (histograms, box plots, scatterplots)  \n",
    "\n",
    "  **Why EDA First?**  \n",
    "  - Prevents “garbage in, garbage out” in downstream analyses  \n",
    "  - Builds your intuition—know your data before you trust your models  \n",
    "\n",
    "  </div>\n",
    "\n",
    "  <!-- Right column: image + citation -->\n",
    "  <div style=\"flex: 0 0 40%; text-align: center;\">\n",
    "      \n",
    "  <img src=\"../slides/eda.png\" alt=\"EDA illustration\" width=\"400\" style=\"margin-bottom: 1em;\"/>\n",
    "\n",
    "  <p style=\"font-size: 0.8em; line-height: 1.2; color: #555; text-align: left;\">\n",
    "  Azevedo, N (2023 July 21). _What is Exploratory Data Analysis? Steps & Examples._ Scalable Path.<br/>\n",
    "  Retrieved June 25, 2025, from <a href=\"https://www.scalablepath.com/data-science/exploratory-data-analysis\" target=\"_blank\">scalablepath.com/eda</a>\n",
    "  </p>\n",
    "\n",
    "  </div>\n",
    "\n",
    "</div>\n",
    "<audio controls src=\"../audio/EDA Slide 2.m4a\">\n"
   ]
  },
  {
   "cell_type": "markdown",
   "id": "a833d022-e64d-45f0-a584-ff090e0888fe",
   "metadata": {},
   "source": [
    "---\n",
    "<div style=\"display: flex; align-items: flex-start; gap: 2rem;\">\n",
    "\n",
    "  <!-- Left column: text -->\n",
    "  <div style=\"flex: 1; min-width: 0;\">\n",
    "\n",
    "  ### Motivation – Why does EDA even Matter?\n",
    "\n",
    "  **Reveals Hidden Patterns in the Data**  \n",
    "  _which informs_\n",
    "\n",
    "  - **Anomaly Detection**  \n",
    "  - **Resource Allocation**  \n",
    "  - **Operational Planning**  \n",
    "  - **Risk Mitigation**\n",
    "\n",
    "  </div>\n",
    "\n",
    "  <!-- Right column: slide image -->\n",
    "  <div style=\"flex: 0 0 40%; text-align: center;\">\n",
    "\n",
    "  <img src=\"../slides/hidden.png\" alt=\"Motivation – Why does EDA even Matter?\" style=\"max-width: 50%; height: auto;\"/>\n",
    "\n",
    "  </div>\n",
    "</div>\n",
    "<audio controls src=\"../audio/EDA Slide 3.m4a\">\n"
   ]
  },
  {
   "cell_type": "markdown",
   "id": "7b68b85b-53bf-4e97-a97c-4936eb6c5006",
   "metadata": {},
   "source": [
    "---\n",
    "\n",
    "## Next: Data Cleaning\n",
    "\n",
    "The very first step in any analysis is **data cleaning**. Cleaning your data—by finding missing values, fixing data types, and handling outliers—lays the groundwork for reliable, accurate results. \n",
    "\n",
    "Proceed to the Data Cleaning section to get started.\n",
    "\n",
    "---\n",
    "\n",
    "### Available Notebooks\n",
    "\n",
    "To support you as you learn the fundamentals of data cleaning, we’ve created two guided, interactive notebooks—no prior coding or data experience required:\n",
    "\n",
    "- **Python Notebook**: `01_data_cleaning_python.ipynb`  \n",
    "  Walks you through each step using the **pandas** library. You’ll learn how to load your dataset, spot and fill missing values, correct data types, and flag outliers—with clear explanations and examples along the way.\n",
    "\n",
    "- **R Notebook**: `01_data_cleaning_R.ipynb`  \n",
    "  Covers the exact same tasks using the **tidyverse** packages (`readr`, `dplyr`, `tidyr`). Each step is broken down in plain language so you can follow even if this is your first time in R.\n",
    "\n",
    "> **Tip for Beginners**: Start with the notebook that feels most familiar—even if neither does! Then try the other to see how the same cleaning steps look in a different tool. This side-by-side practice will build your confidence and give you flexibility for future analyses.  \n",
    "\n",
    "<audio controls src=\"../audio/Intro transition.m4a\">"
   ]
  }
 ],
 "metadata": {
  "kernelspec": {
   "display_name": "Python 3 (ipykernel)",
   "language": "python",
   "name": "python3"
  },
  "language_info": {
   "codemirror_mode": {
    "name": "ipython",
    "version": 3
   },
   "file_extension": ".py",
   "mimetype": "text/x-python",
   "name": "python",
   "nbconvert_exporter": "python",
   "pygments_lexer": "ipython3",
   "version": "3.13.5"
  }
 },
 "nbformat": 4,
 "nbformat_minor": 5
}
