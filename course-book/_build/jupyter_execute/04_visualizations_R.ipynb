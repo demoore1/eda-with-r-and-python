{
 "cells": [
  {
   "cell_type": "markdown",
   "id": "74a1af09-e8d2-4128-b155-c9995e71a494",
   "metadata": {},
   "source": [
    "# 04: Visualizations\n",
    "\n",
    "## Objective: \n",
    "In this lesson, you will learn how to create and read simple visual charts that turn raw numbers into clear pictures. \n",
    "\n",
    "<table width=\"100%\">\n",
    "  <tr>\n",
    "    <td style=\"vertical-align: top; text-align: left; width: 60%; padding-right: 20px;\"> </br> </br></br> </br></br>\n",
    "    <strong>You'll Build:</strong>\n",
    "      <ol style=\"font-size: 18px; line-height: 1.4;\">\n",
    "        <li><strong>Histograms:</strong> to see how often different scores occur  </li>\n",
    "        <li><strong>Box plots:</strong> to spot unusually high or low values and compare groups  </li>\n",
    "        <li><strong>Scatter plots:</strong> to see if two measurements move together (for example, Age vs.  Recidivism Score) </li>\n",
    "        <li><strong>Heatmaps:</strong> to quickly identify which pairs of variables tend to rise and fall in sync  </li>\n",
    "      </ol>\n",
    "    </td>\n",
    "    <td style=\"vertical-align: top; text-align: left; width: 40%;\">\n",
    "   <!-- relative path to visualizations.png -->\n",
    "      <img src=\"../slides/visualizations.png\" alt=\"data vis\" width=\"1000\" />\n",
    "    </td>\n",
    "  </tr>\n",
    "</table>\n",
    "\n",
    "#### By the end, you’ll be able to describe in plain language what each chart shows—how your data are distributed, where patterns emerge, and which factors appear linked—even if you’ve never worked with data before.  \n",
    "---\n",
    "<audio controls src=\"../audio/Visualization.m4a\">"
   ]
  },
  {
   "cell_type": "markdown",
   "id": "3f6557fb-fb18-4392-a756-e46f263e82b4",
   "metadata": {},
   "source": [
    "\n",
    "---\n",
    "\n",
    "### Creating Key Charts\n",
    "\n",
    "In this lesson you’ll learn how to turn numbers into pictures. We’ll use four chart types—histograms, box plots, scatter plots, and heatmaps—to explore our recidivism dataset. Each section includes:\n",
    "\n",
    "1. **What we’re doing** in plain English  \n",
    "2. **Rcode** to run  \n",
    "3. **What you’ll see** and **what it means**  "
   ]
  },
  {
   "cell_type": "markdown",
   "id": "3607f7cf-a9b6-4afd-9864-eaacea0124b6",
   "metadata": {},
   "source": [
    "## 1. Histogram  \n",
    "**What we’re doing:**  \n",
    "The first visualization we will explore is the histogram. Here we’ll draw bars that show how many people fall into each score range. This helps you see if scores cluster around a central value or spread out evenly.\n"
   ]
  },
  {
   "cell_type": "code",
   "execution_count": 1,
   "id": "d5642fe3-de8c-4465-b27e-be71c0f6ac1b",
   "metadata": {},
   "outputs": [
    {
     "name": "stderr",
     "output_type": "stream",
     "text": [
      "Warning message:\n",
      "\"package 'ggplot2' was built under R version 4.4.3\"\n"
     ]
    },
    {
     "data": {
      "image/png": "[encoded data removed]",
      "text/plain": [
       "plot without title"
      ]
     },
     "metadata": {
      "image/png": {
       "height": 420,
       "width": 420
      }
     },
     "output_type": "display_data"
    }
   ],
   "source": [
    "library(ggplot2)\n",
    "\n",
    "#load the data\n",
    "df <- read.csv(\"../data/compas_scores_raw.csv\", stringsAsFactors = FALSE)\n",
    "\n",
    "#generate the plot\n",
    "ggplot(df, aes(x = RawScore)) +\n",
    "  geom_histogram(binwidth = 2, color = \"black\", fill = \"lightblue\") +\n",
    "  labs(\n",
    "    title = \"Histogram of Raw Scores\",\n",
    "    x     = \"RawScore\",\n",
    "    y     = \"Count\"\n",
    "  )"
   ]
  },
  {
   "cell_type": "markdown",
   "id": "35eded88-19cd-4d89-bf87-ac8c8ec9f000",
   "metadata": {},
   "source": [
    "#### What You’ll See: Histogram of Raw Scores\n",
    "\n",
    "We’ll walk through how to read the histogram you just created. Even if you’ve never worked with data before, this step-by-step guide will clarify exactly what each part of the R code is doing and what the resulting chart tells you.\n",
    "\n",
    "---\n",
    "\n",
    "##### `library(ggplot2)`  \n",
    "- Loads the **ggplot2** package, giving you access to its powerful, easy-to-use plotting functions.\n",
    "\n",
    "##### `ggplot(df, aes(x = RawScore))`  \n",
    "- Chooses your dataset (`df`)  \n",
    "- Maps the `RawScore` values to the horizontal axis\n",
    "\n",
    "##### `geom_histogram(binwidth = 2, color = \"black\", fill = \"lightblue\")`  \n",
    "- **`binwidth = 2`** groups scores into ranges of 2 points each  \n",
    "- **`color = \"black\"`** draws a black outline around each bar for clarity  \n",
    "- **`fill = \"lightblue\"`** colors the bars so they’re easy to see\n",
    "\n",
    "##### `labs(title = \"Histogram of Raw Scores\", x = \"RawScore\", y = \"Count\")`  \n",
    "- Adds a **title** (“Histogram of Raw Scores”)  \n",
    "- Labels the **x-axis** (“RawScore”) and **y-axis** (“Count”)\n",
    "\n",
    "---\n"
   ]
  },
  {
   "cell_type": "markdown",
   "id": "2859ebf9-4f38-43eb-b6f8-6feaeccd0920",
   "metadata": {},
   "source": [
    "#### Interpreting the Chart\n",
    "- **Vertical bars** represent how many individuals scored within each 2-point range.\n",
    "\n",
    "- **Height of a bar** = number of records in that score bracket.\n",
    "\n",
    "- The **tallest bar** is the “peak,” showing the most common score range.\n",
    "\n",
    "- The **tails** (short bars stretching left or right) show rare, extreme scores.\n",
    "\n",
    "- If one tail is much longer, your data are **skewed** (more extreme values on that side).\n",
    "\n",
    "This visual helps you instantly see where most scores cluster and whether there are unusual low or high values you should investigate further."
   ]
  },
  {
   "cell_type": "markdown",
   "id": "569dc53d-5fc7-4ec4-9cf8-599c12dcbe3f",
   "metadata": {},
   "source": [
    "---\n",
    "\n",
    "## 2. Box Plot\n",
    "\n",
    "**What we’re doing:**\n",
    " - Compute the 1st quartile (Q1, 25th percentile) and 3rd quartile (Q3, 75th percentile)\n",
    " - Draw a box from Q1 to Q3 to show the middle 50% of scores (the interquartile range, IQR)\n",
    " - Place a line inside the box at the median (50th percentile)\n",
    " - Extend “whiskers” from the box to the smallest and largest scores within 1.5 × IQR\n",
    " - Plot any scores beyond the whiskers as individual dots (outliers)"
   ]
  },
  {
   "cell_type": "code",
   "execution_count": 2,
   "id": "5d9f10bd-6ce3-4fcf-ab49-61ad942c6432",
   "metadata": {},
   "outputs": [
    {
     "data": {
      "image/png": "[encoded data removed]",
      "text/plain": [
       "plot without title"
      ]
     },
     "metadata": {
      "image/png": {
       "height": 420,
       "width": 420
      }
     },
     "output_type": "display_data"
    }
   ],
   "source": [
    "ggplot(df, aes(y = RawScore)) +\n",
    "  geom_boxplot(\n",
    "    width         = 0.5,         # Controls box width\n",
    "    color         = \"black\",     # Outline color for clarity\n",
    "    fill          = \"lightgreen\",# Box fill color\n",
    "    outlier.shape = 16,          # Solid dot for outliers\n",
    "    outlier.size  = 2            # Size of outlier dots\n",
    "  ) +\n",
    "  labs(\n",
    "    title = \"Box Plot of Raw Scores\",  # Main title\n",
    "    x     = \"\",                        # No x-axis label needed here\n",
    "    y     = \"RawScore\"                 # Label for the score axis\n",
    "  )"
   ]
  },
  {
   "cell_type": "markdown",
   "id": "2474d8ca-ce99-4878-ab59-8e9f9104a0e4",
   "metadata": {},
   "source": [
    "### What You’ll See: Box Plot of Raw Scores\n",
    "\n",
    "We’ll walk through how to read the box plot you just created. Even if you’ve never worked with data before, this step-by-step guide will clarify exactly what each part of the R code is doing and what the resulting chart tells you.\n",
    "\n",
    "#### `ggplot(df, aes(y = RawScore))`\n",
    "- Chooses your dataset (`df`)\n",
    "- Maps the `RawScore` values to the vertical axis (one box for all scores)\n",
    "\n",
    "#### `geom_boxplot(fill = \"lightgreen\")`\n",
    "- Draws a **box** showing the middle 50% of scores (from the 25th to the 75th percentile)\n",
    "- Puts a **line** inside the box at the median (the value splitting the data in half)\n",
    "- Extends **whiskers** to the lowest and highest scores within 1.5× the interquartile range\n",
    "- Marks any points beyond the whiskers as **outliers** (unusually low or high scores)\n",
    "- Uses **`fill = \"lightgreen\"`** to color the box for clarity\n",
    "\n",
    "#### labs(title = \"Box Plot of Raw Scores\", y = \"RawScore\")\n",
    "- Adds a **title** so you know this is “Box Plot of Raw Scores”\n",
    "- Labels the **`y-axis`** with `RawScore`\n",
    "- (No x-axis label is needed since there’s only one group)\n",
    "\n",
    "\n",
    "\n",
    "### Interpreting the plot\n",
    "- The **height of the box** shows how spread out the middle half of your scores are.\n",
    "- A **short box** means most scores are close together; a tall box means they vary more.\n",
    "- The **line** inside the box tells you the median score.\n",
    "- **Whiskers** reveal the typical low and high range of scores.\n",
    "- **Outlier** dots flag any unusually extreme values you may want to investigate further.\n"
   ]
  },
  {
   "cell_type": "markdown",
   "id": "75c54162-eb15-440a-ba43-0ed7bc5597ae",
   "metadata": {},
   "source": [
    "---\n",
    "## 3. Scatter Plot\n",
    "\n",
    "**What we’re doing**  \n",
    "We’ll draw one dot for each person in our dataset. The dot’s horizontal position shows their **Age**, and the vertical position shows their **RawScore**. This helps us see if older or younger people tend to score higher or lower.\n",
    "\n",
    "**Using a sample**  \n",
    "Plotting all 60,000+ data points would create a crowded chart and could actually obscure the trends we’re interested in. To keep the scatterplot clear and ensure any patterns stand out, we’ll use a random sample of 2000 observations from the original dataset.\n",
    "\n"
   ]
  },
  {
   "cell_type": "code",
   "execution_count": 3,
   "id": "a7c8bcd7-557c-4fdc-af9c-8599f56518ad",
   "metadata": {
    "scrolled": true
   },
   "outputs": [
    {
     "name": "stderr",
     "output_type": "stream",
     "text": [
      "Warning message in file(file, \"rt\"):\n",
      "\"cannot open file '../data/compas_sample_new.csv': No such file or directory\"\n"
     ]
    },
    {
     "ename": "ERROR",
     "evalue": "Error in file(file, \"rt\"): cannot open the connection\n",
     "output_type": "error",
     "traceback": [
      "Error in file(file, \"rt\"): cannot open the connection\nTraceback:\n",
      "1. read.table(file = file, header = header, sep = sep, quote = quote, \n .     dec = dec, fill = fill, comment.char = comment.char, ...)",
      "2. file(file, \"rt\")",
      "3. .handleSimpleError(function (cnd) \n . {\n .     watcher$capture_plot_and_output()\n .     cnd <- sanitize_call(cnd)\n .     watcher$push(cnd)\n .     switch(on_error, continue = invokeRestart(\"eval_continue\"), \n .         stop = invokeRestart(\"eval_stop\"), error = NULL)\n . }, \"cannot open the connection\", base::quote(file(file, \"rt\")))"
     ]
    }
   ],
   "source": [
    "# Scatter plot of Age vs RawScore\n",
    "df2<- read.csv(\"../data/compas_sample_new.csv\", stringsAsFactors = FALSE)\n",
    "\n",
    "library(ggplot2)               # load ggplot2 for plotting\n",
    "ggplot(df2, aes(x = Age, y = RawScore)) +\n",
    "  geom_point(alpha = 0.3) +    # plot semi-transparent points so overlaps are visible\n",
    "  labs(\n",
    "    title = \"Scatter: Age vs RawScore\",  # chart title\n",
    "    x     = \"Age (years)\",               # x-axis label\n",
    "    y     = \"RawScore\"                   # y-axis label\n",
    "  )"
   ]
  },
  {
   "cell_type": "markdown",
   "id": "7d4cf818-5b59-477c-b298-b78058aa8908",
   "metadata": {},
   "source": [
    "### Scatter Plot of Age vs RawScore\n",
    "\n",
    "We’ll walk through how to read the scatter plot you just created. Even if you’ve never worked with data before, this step-by-step guide will clarify exactly what each part of the R code is doing and what the resulting chart tells you.\n",
    "\n",
    "#### `df2 <- read.csv(\"../data/compas_sample_new.csv\", stringsAsFactors = FALSE)`\n",
    "- Reads your sample data (150 rows) into a data frame named **df2**.  \n",
    "- `stringsAsFactors = FALSE` keeps any text columns as plain text, not factors.\n",
    "\n",
    "#### `library(ggplot2)`\n",
    "- Loads the **ggplot2** package, giving you access to its plotting functions.\n",
    "\n",
    "#### `ggplot(df2, aes(x = Age, y = RawScore))`\n",
    "- Chooses **df2** as your data source.  \n",
    "- Maps `Age` to the horizontal axis and `RawScore` to the vertical axis.\n",
    "\n",
    "#### `geom_point(alpha = 0.3)`\n",
    "- Draws one dot for each person in the sample.  \n",
    "- `alpha = 0.3` makes points semi-transparent so overlapping dots remain visible.\n",
    "\n",
    "#### `labs(title = \"Scatter: Age vs RawScore\", x = \"Age (years)\", y = \"RawScore\")`\n",
    "- Adds a **title** to the chart.  \n",
    "- Labels the x-axis with “Age (years)” and the y-axis with “RawScore”.\n",
    "\n",
    "---\n",
    "\n",
    "### What you’ll see\n",
    "- A **cloud of dots**, each representing one person’s age and risk score.  \n",
    "- If the cloud **slopes upward**, it suggests older individuals tend to have higher RawScores.  \n",
    "- If the cloud is **flat**, there’s no clear relationship between age and score.  \n",
    "- **Clusters** of dots show age groups with similar score patterns.  \n",
    "- **Gaps** may reveal age ranges that are under-represented in your sample.  \n",
    "\n"
   ]
  },
  {
   "cell_type": "markdown",
   "id": "98aef8bb-3e77-4f46-95eb-db104df9d298",
   "metadata": {},
   "source": [
    "---\n",
    "\n",
    "## Correlation Analysis\n",
    "\n",
    "The last topic we will cover is correlation analysis.\n",
    "    \n",
    "**What It Is**  \n",
    "- A way to see how two numeric variables move together.  \n",
    "- Scores range from **–1** (exactly opposite), through **0** (no relationship), to **+1** (move in perfect sync).\n",
    "\n",
    "**Why It Matters**  \n",
    "- **Find linked factors:** know which measures rise and fall together (for example, higher RawScore often goes with higher DecileScore).  \n",
    "- **Avoid redundant inputs:** if two variables behave almost identically, you only need one in your model.  \n",
    "- **Pick the right features:** focus on variables that add unique value, rather than clutter.\n",
    "\n",
    "**Common Tools** \n",
    "- **Correlation Matrix:** a simple table listing the correlation score for every pair of variables.   \n",
    "- **Heatmap:** the same table shown in color, so you can spot strong relationships at a glance.   \n",
    "- **Scatterplot Matrix:** small scatter plots for each variable pair, letting you see the actual data points and check for non-linear patterns or outliers.  \n"
   ]
  },
  {
   "cell_type": "markdown",
   "id": "0a911355-36f0-4674-985d-e213ae024337",
   "metadata": {},
   "source": [
    "---\n",
    "\n",
    "## Correlation Matrix\n",
    "\n",
    "We’ll first create a **correlation matrix**, which is a table showing how strongly each numeric variable in our COMPAS data moves with every other. Values range from **–1** (perfect opposite) to **+1** (perfect sync), with **0** meaning no linear relationship.\n"
   ]
  },
  {
   "cell_type": "code",
   "execution_count": null,
   "id": "3c17f04f-1b5e-4507-aa62-a847adc37c24",
   "metadata": {},
   "outputs": [],
   "source": [
    "# 1. Load your data\n",
    "df <- read.csv(\"../data/compas_scores_raw.csv\", stringsAsFactors = FALSE)\n",
    "\n",
    "# 2. Keep only numeric columns\n",
    "num_df <- df[sapply(df, is.numeric)]\n",
    "\n",
    "# 3. Compute the correlation matrix (ignoring missing values)\n",
    "corr_mat <- cor(num_df, use = \"pairwise.complete.obs\")\n",
    "\n",
    "# 4. Print the matrix, rounded to two decimals\n",
    "print(round(corr_mat, 2))"
   ]
  },
  {
   "cell_type": "markdown",
   "id": "12d98a42-23ee-4de4-a454-15ed7088d2de",
   "metadata": {},
   "source": [
    "### What you’ll see\n",
    "- A **square table** where each row and column is one numeric field (Age, RawScore, DecileScore, etc.).\n",
    "- Each cell shows the correlation coefficient between that row’s variable and that column’s variable.\n",
    "- Look for values near **+1** (strong positive link) or **–1** (strong negative link). Values near 0 mean little linear relationship."
   ]
  },
  {
   "cell_type": "markdown",
   "id": "e1151812-39f1-4dd5-b954-a6a5e3224b4d",
   "metadata": {},
   "source": [
    "---\n",
    "\n",
    "##  Heatmap \n",
    "\n",
    "**What we’re doing**  \n",
    "We want to see how our key numeric variables (like Age, RawScore, DecileScore) move together. A correlation heatmap is a colored grid where each cell shows the strength of the relationship between two variables.\n"
   ]
  },
  {
   "cell_type": "code",
   "execution_count": 14,
   "id": "32af6a0c-4f75-4d53-930b-5287112c9d9b",
   "metadata": {
    "scrolled": true
   },
   "outputs": [
    {
     "data": {
      "image/png": "[encoded data removed]",
      "text/plain": [
       "Plot with title \"\""
      ]
     },
     "metadata": {
      "image/png": {
       "height": 420,
       "width": 420
      }
     },
     "output_type": "display_data"
    }
   ],
   "source": [
    "# provides easy correlation plotting\n",
    "library(corrplot)\n",
    "df<- read.csv(\"../data/compas_scores_positive.csv\", stringsAsFactors = FALSE)\n",
    "# 2. Select only the columns with numbers\n",
    "num_df <- df[sapply(df, is.numeric)]  \n",
    "\n",
    "# 3. Compute the correlation matrix\n",
    "#    Each value ranges from -1 to +1:\n",
    "#      +1 means two variables rise and fall together perfectly,\n",
    "#      -1 means they move in opposite directions perfectly,\n",
    "#       0 means no linear relationship.\n",
    "corr_mat <- cor(num_df, use = \"pairwise.complete.obs\")\n",
    "\n",
    "# 4. Draw the heatmap\n",
    "#    - method = \"color\" fills cells with a color scale,\n",
    "#    - tl.cex = 0.6 shrinks the variable names so they fit.\n",
    "corrplot(corr_mat, method = \"color\", tl.cex = 0.6)"
   ]
  },
  {
   "cell_type": "markdown",
   "id": "fe153cdc-574f-4315-8d91-b87bdeb00470",
   "metadata": {},
   "source": [
    "### Correlation Heatmap\n",
    "\n",
    "We’ll walk through how to read the heatmap you just created. Even if you’ve never worked with data before, this step-by-step guide will clarify exactly what each part of the R code is doing and what the resulting chart tells you.\n",
    "\n",
    "#### `library(corrplot)`\n",
    "- Brings in **corrplot**, a package that makes drawing correlation grids easy.\n",
    "\n",
    "#### `num_df <- df[sapply(df, is.numeric)]`\n",
    "- Selects **only the numeric columns** (like Age, RawScore, DecileScore) from your data.\n",
    "\n",
    "#### `corr_mat <- cor(num_df, use = \"pairwise.complete.obs\")`\n",
    "- Calculates the **correlation** for each pair of numeric variables, ignoring any missing values.\n",
    "- Each correlation value ranges from **–1** (perfect negative relationship) to **+1** (perfect positive relationship), with **0** meaning no linear relationship.\n",
    "\n",
    "#### `corrplot(corr_mat, method = \"color\", tl.cex = 0.6)`\n",
    "- Converts those numbers into a **colored grid**:\n",
    "  - **Dark red** cells (values near +1) mean two variables rise and fall together strongly.\n",
    "  - **Dark blue** cells (values near –1) mean one variable increases as the other decreases.\n",
    "  - **Light or white** cells (values near 0) mean little or no linear link.\n",
    "- `method = \"color\"` fills each cell with a splash of color proportional to the correlation.\n",
    "- `tl.cex = 0.6` makes the variable labels small enough to fit around the grid.\n",
    "\n",
    "---\n",
    "\n",
    "### What you’ll see\n",
    "- A **square grid** with your variable names along the top and left edges.\n",
    "- **Color intensity** shows how strongly each pair of variables moves together.\n",
    "  - **Bright red** = strong positive correlation  \n",
    "  - **Bright blue** = strong negative correlation  \n",
    "  - **Pale or white** = little to no correlation\n",
    "- Use this chart to:\n",
    "  - Spot unexpected links (e.g., if Age and RawScore tend to rise together)  \n",
    "  - Check for **multicollinearity** (if two predictors are almost identical, you may need to drop one before further analysis)  \n"
   ]
  },
  {
   "cell_type": "markdown",
   "id": "8fa7ef03-87e5-4c54-b950-61af4e745b32",
   "metadata": {},
   "source": [
    "---\n",
    "\n",
    "##  Scatterplot Matrix\n",
    "\n",
    "**What we’re doing**  \n",
    "Next, we’ll draw a scatterplot matrix—a grid of scatter plots showing each pair of numeric variables. This helps you see the actual data points and spot non-linear patterns or outliers."
   ]
  },
  {
   "cell_type": "code",
   "execution_count": 2,
   "id": "78d95ec0-f65c-4dec-8375-207a584a4b9d",
   "metadata": {},
   "outputs": [
    {
     "data": {
      "image/png": "[encoded data removed]",
      "text/plain": [
       "plot without title"
      ]
     },
     "metadata": {
      "image/png": {
       "height": 420,
       "width": 420
      }
     },
     "output_type": "display_data"
    }
   ],
   "source": [
    "# 1. (If not already) load your data and numeric subset\n",
    "df <- read.csv(\"../data/compas_scores_raw.csv\", stringsAsFactors = FALSE)\n",
    "num_df <- df[sapply(df, is.numeric)]\n",
    "\n",
    "# 2. Draw the scatterplot matrix\n",
    "pairs(\n",
    "  num_df,\n",
    "  main   = \"Scatterplot Matrix of Numeric Variables\",\n",
    "  pch    = 19,       # solid circle for each point\n",
    "  cex    = 0.5,      # make points smaller\n",
    "  col    = \"blue\"    # color of the points\n",
    ")"
   ]
  },
  {
   "cell_type": "markdown",
   "id": "77df2cbf-f1f9-47fc-bc3e-6a278edee5ce",
   "metadata": {},
   "source": [
    "### What you’ll see\n",
    "\n",
    "- A **grid of small scatter plots**  \n",
    "  Each cell at row *i*, column *j* plots Variable *i* on the y-axis versus Variable *j* on the x-axis.\n",
    "\n",
    "- **Diagonal histograms**  \n",
    "  The diagonal cells show a histogram of each variable’s distribution.\n",
    "\n",
    "- **Dense clouds**  \n",
    "  Thick clusters of points mean many similar value pairs.\n",
    "\n",
    "- **Gaps or tails**  \n",
    "  Open spaces or extended tails highlight outliers or skew.\n",
    "\n",
    "- **How to use it**  \n",
    "  - Look for **straight-line patterns** to identify linked variables.  \n",
    "  - Notice **random scatter** for variables with no clear relationship.  \n",
    "  - Spot **isolated points** far from the main cloud to find extreme values.  \n"
   ]
  },
  {
   "cell_type": "markdown",
   "id": "41fd2acc-18ec-464a-a1ea-1d7dfa38df8d",
   "metadata": {},
   "source": [
    "---\n",
    "\n",
    "# 🎉 You’re All Set!\n",
    "\n",
    "You’ve completed the **Data Visualization** module. You now know how to:\n",
    "\n",
    "- Create histograms, box plots, scatter plots, and heatmaps  \n",
    "- Interpret each chart to uncover patterns, outliers, and relationships  \n",
    "- Use visual tools to guide your next analysis steps  \n",
    "\n",
    "---\n",
    "\n",
    "## Next Step: Final Thoughts\n",
    "\n",
    "Head over to **`06_final_thoughts.ipynb`** to wrap up your **Exploratory Data Analysis** lesson. There, we’ll review key takeaways and discuss best practices for documenting and sharing your insights.  \n"
   ]
  },
  {
   "cell_type": "code",
   "execution_count": null,
   "id": "28e017da-07ac-4dc3-bbac-48c8bc8ae307",
   "metadata": {},
   "outputs": [],
   "source": []
  }
 ],
 "metadata": {
  "kernelspec": {
   "display_name": "R",
   "language": "R",
   "name": "ir"
  },
  "language_info": {
   "codemirror_mode": "r",
   "file_extension": ".r",
   "mimetype": "text/x-r-source",
   "name": "R",
   "pygments_lexer": "r",
   "version": "4.4.2"
  }
 },
 "nbformat": 4,
 "nbformat_minor": 5
}