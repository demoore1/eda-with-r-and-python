{
 "cells": [
  {
   "cell_type": "markdown",
   "id": "4faf6856-0a83-4c9e-80ca-cfb7dfcaf0ab",
   "metadata": {},
   "source": [
    "# 03: Summary Statistics\n",
    "\n",
    "**Objective:** Quickly summarize your data’s center, spread, and shape so you can spot patterns and anomalies before diving deeper.\n",
    "\n",
    "**Key Steps:**\n",
    "<table width=\"100%\">\n",
    "  <tr>\n",
    "    <td style=\"vertical-align: top; text-align: left; width: 60%; padding-right: 20px;\">\n",
    "      <ol style=\"font-size: 20px; line-height: 1.4;\">\n",
    "        <li>Compute central tendency (mean, median, mode)</li>\n",
    "        <li>Measure dispersion (range, variance, standard deviation, IQR)</li>\n",
    "        <li>Assess distribution shape (skewness, kurtosis)</li>\n",
    "        <li>Detect anomalies or outliers early </li>\n",
    "      </ol>\n",
    "    </td>\n",
    "    <td style=\"vertical-align: top; text-align: left; width: 40%;\">\n",
    "      <!-- relative path to cleaning.png -->\n",
    "      <img src=\"../slides/sum stats.png\" alt=\"summary stats\" width=\"1000\" />\n",
    "    </td>\n",
    "  </tr>\n",
    "</table>\n",
    "---\n",
    "<audio controls src=\"../audio/summary.m4a\">"
   ]
  },
  {
   "cell_type": "markdown",
   "id": "aaee646b-2d8e-44ec-8dca-15673b9ca1a2",
   "metadata": {},
   "source": [
    "---\n",
    "\n",
    "# Summary Statistics: Step-by-Step\n",
    "\n",
    "We’ll walk through calculating key summary statistics on our COMPAS dataset in both R and Python. Each step includes:\n",
    "\n",
    "1. **What we’re doing** (plain English)  \n",
    "2. **Code to run**  \n",
    "3. **What the output tells you**\n",
    "\n",
    "#### Review: Loading the Data\n",
    "\n",
    "Reload the COMPAS CSV into our table `df`, which contains **24,272 rows** and **24 columns**. With the data in `df`, we’re ready to compute our summary statistics.  \n"
   ]
  },
  {
   "cell_type": "code",
   "execution_count": 1,
   "id": "3f14124d-2e0e-472c-ad37-467225b5c27a",
   "metadata": {},
   "outputs": [],
   "source": [
    "\n",
    "df <- read.csv(\"../data/compas_scores_raw.csv\", stringsAsFactors = FALSE)"
   ]
  },
  {
   "cell_type": "markdown",
   "id": "0b24791a-5f31-4218-908f-edd2bf0617c4",
   "metadata": {},
   "source": [
    "#### Step 1: Compute the Mean (Average)\n",
    "\n",
    "The mean tells us the “typical” value by adding up all values and dividing by the count."
   ]
  },
  {
   "cell_type": "code",
   "execution_count": 2,
   "id": "da425f94-3424-4308-b72d-65ec2c37253a",
   "metadata": {},
   "outputs": [
    {
     "data": {
      "text/html": [
       "15.5572585695452"
      ],
      "text/latex": [
       "15.5572585695452"
      ],
      "text/markdown": [
       "15.5572585695452"
      ],
      "text/plain": [
       "[1] 15.55726"
      ]
     },
     "metadata": {},
     "output_type": "display_data"
    }
   ],
   "source": [
    "mean_raw <- mean(df$RawScore, na.rm = TRUE)\n",
    "mean_raw"
   ]
  },
  {
   "cell_type": "markdown",
   "id": "9cd584a4-c3f0-40a6-9f58-9486c44c4f34",
   "metadata": {},
   "source": [
    "**What you’ll see:**  \n",
    "A single number (in this case, `15.557`). This is the center of your RawScore distribution. If it is positive, scores tend to be above zero; if negative, below.  \n"
   ]
  },
  {
   "cell_type": "markdown",
   "id": "e6adca4e-7192-4662-8eb0-28b3a11ca6f0",
   "metadata": {},
   "source": [
    "#### Step 2: Find the Median\n",
    "\n",
    "The **median** is the middle value when you sort all the numbers. It’s less affected by extreme values."
   ]
  },
  {
   "cell_type": "code",
   "execution_count": 3,
   "id": "39368459-c4e4-4cc5-9cd7-73c1e964c4c2",
   "metadata": {},
   "outputs": [
    {
     "data": {
      "text/html": [
       "16"
      ],
      "text/latex": [
       "16"
      ],
      "text/markdown": [
       "16"
      ],
      "text/plain": [
       "[1] 16"
      ]
     },
     "metadata": {},
     "output_type": "display_data"
    }
   ],
   "source": [
    "median_raw <- median(df$RawScore, na.rm = TRUE)\n",
    "median_raw"
   ]
  },
  {
   "cell_type": "markdown",
   "id": "0b651863-88f3-4ce1-b831-e62b6f6eef84",
   "metadata": {},
   "source": [
    "**What you’ll see:**  \n",
    "- One number (for example, `16`).  \n",
    "- This is the “middle” score: 50% of your data are below it and 50% are above it.  \n",
    "- If this middle number is very different from the average you calculated before, it means your data are lopsided—more values bunch up on one side than the other.  \n"
   ]
  },
  {
   "cell_type": "markdown",
   "id": "8bf06837-653d-405f-ac8e-fa06c37e963c",
   "metadata": {},
   "source": [
    "#### Step 3: Get the Mode\n",
    "\n",
    "The **mode** is the value that appears most often in your data. It highlights the single most common observation.\n",
    "\n",
    "**Note:** Base R does not include a built-in function for the statistical mode. Therefore you will need to load the **DescTools** package and use `Mode()` "
   ]
  },
  {
   "cell_type": "code",
   "execution_count": 4,
   "id": "fe38b99e-b473-42c5-88b1-81c3a7c76a5a",
   "metadata": {},
   "outputs": [
    {
     "name": "stderr",
     "output_type": "stream",
     "text": [
      "Warning message:\n",
      "\"package 'DescTools' was built under R version 4.4.3\"\n"
     ]
    },
    {
     "data": {
      "text/html": [
       "13"
      ],
      "text/latex": [
       "13"
      ],
      "text/markdown": [
       "13"
      ],
      "text/plain": [
       "[1] 13\n",
       "attr(,\"freq\")\n",
       "[1] 1826"
      ]
     },
     "metadata": {},
     "output_type": "display_data"
    }
   ],
   "source": [
    "library(DescTools)\n",
    "\n",
    "Mode(df$RawScore)"
   ]
  },
  {
   "cell_type": "markdown",
   "id": "8e75a091-c3d7-4741-a945-c051db7bf67c",
   "metadata": {},
   "source": [
    "\n",
    "**What you’ll see:**  \n",
    "A single number (for example, `13`) — the RawScore value that occurs more frequently than any other. This indicates the most typical individual score in your dataset.\n",
    "\n",
    "**Why it’s useful:**  \n",
    "- **Identifies the peak** of your distribution, showing where data cluster most densely.  \n",
    "- **Complements mean and median**, especially when your data are skewed or have multiple peaks.  \n",
    "- **Helps with categorical data**, by revealing the most popular category or choice.  "
   ]
  },
  {
   "cell_type": "markdown",
   "id": "fe793d21-4006-4369-8349-ea35d74f694b",
   "metadata": {},
   "source": [
    "#### Step 4: Measure How Spread Out Your Data Are\n",
    "\n",
    "We want to know not just the “middle” of our scores but how far apart they are. We’ll use three measures:\n",
    "\n",
    "- **Range**: the gap between the smallest and largest value  \n",
    "- **Variance**: the average of squared differences from the mean (gets bigger when values are more spread out)  \n",
    "- **Standard Deviation (SD)**: the square root of the variance, which tells you in the same units how far values typically fall from the mean  "
   ]
  },
  {
   "cell_type": "code",
   "execution_count": 5,
   "id": "32357e57-1230-40ff-81be-6172816e4911",
   "metadata": {},
   "outputs": [
    {
     "data": {
      "text/html": [
       "<style>\n",
       ".list-inline {list-style: none; margin:0; padding: 0}\n",
       ".list-inline>li {display: inline-block}\n",
       ".list-inline>li:not(:last-child)::after {content: \"\\00b7\"; padding: 0 .5ex}\n",
       "</style>\n",
       "<ol class=list-inline><li>0.01</li><li>51</li></ol>\n"
      ],
      "text/latex": [
       "\\begin{enumerate*}\n",
       "\\item 0.01\n",
       "\\item 51\n",
       "\\end{enumerate*}\n"
      ],
      "text/markdown": [
       "1. 0.01\n",
       "2. 51\n",
       "\n",
       "\n"
      ],
      "text/plain": [
       "[1]  0.01 51.00"
      ]
     },
     "metadata": {},
     "output_type": "display_data"
    },
    {
     "data": {
      "text/html": [
       "70.3865579656882"
      ],
      "text/latex": [
       "70.3865579656882"
      ],
      "text/markdown": [
       "70.3865579656882"
      ],
      "text/plain": [
       "[1] 70.38656"
      ]
     },
     "metadata": {},
     "output_type": "display_data"
    },
    {
     "data": {
      "text/html": [
       "8.38966971731833"
      ],
      "text/latex": [
       "8.38966971731833"
      ],
      "text/markdown": [
       "8.38966971731833"
      ],
      "text/plain": [
       "[1] 8.38967"
      ]
     },
     "metadata": {},
     "output_type": "display_data"
    }
   ],
   "source": [
    "range_raw <- range(df$RawScore, na.rm = TRUE)\n",
    "var_raw   <- var(df$RawScore, na.rm = TRUE)\n",
    "sd_raw    <- sd(df$RawScore, na.rm = TRUE)\n",
    "range_raw; var_raw; sd_raw"
   ]
  },
  {
   "cell_type": "markdown",
   "id": "7c9065ed-3f6f-4a10-8c0d-1dcede0e34b3",
   "metadata": {},
   "source": [
    "**What you’ll see:** \n",
    "\n",
    "- **Range: 0.01 to 51**  \n",
    "  The lowest score is 0.01, the highest is 51—a span of about 51 points. This tells you there are both extremely low and extremely high risk assessments in your data.\n",
    "\n",
    "- **Variance: 70.3866**  \n",
    "  Variance squares each deviation from the mean, so this large number confirms the scores are widely spread out.\n",
    "\n",
    "- **Standard deviation: 8.3897**  \n",
    "  By taking the square root of the variance, we get back to the original units: on average, a RawScore lies about 10 points away from the mean. A high SD signals substantial variability in individual risk levels.\n",
    "\n",
    "**Why it matters:**  \n",
    "- Such a wide range and high spread mean outliers can heavily influence analyses.  \n",
    "- Before modeling, you’ll often standardize or normalize these scores so each case is treated fairly by downstream algorithms.  "
   ]
  },
  {
   "cell_type": "markdown",
   "id": "ef6dbbf5-9f0d-4729-bb16-b3c054318749",
   "metadata": {},
   "source": [
    "#### Quick Overall Summary\n",
    "\n",
    "Now that we’ve calculated each statistic separately, we can use one command to get them all at once. This gives you a fast “at-a-glance” view of your data’s key features.\n"
   ]
  },
  {
   "cell_type": "code",
   "execution_count": 6,
   "id": "19b75bf0-fade-41f6-8d56-4b28fd1a95e3",
   "metadata": {},
   "outputs": [
    {
     "data": {
      "text/plain": [
       "   Min. 1st Qu.  Median    Mean 3rd Qu.    Max. \n",
       "   0.01   13.00   16.00   15.56   21.00   51.00 "
      ]
     },
     "metadata": {},
     "output_type": "display_data"
    }
   ],
   "source": [
    "summary(df$RawScore)"
   ]
  },
  {
   "cell_type": "markdown",
   "id": "212b480a-a995-4ba5-b9be-b8cf6a262596",
   "metadata": {},
   "source": [
    "**What you’ll see:**  \n",
    "\n",
    "- **Min.** – the lowest score in your data, showing the smallest value recorded  \n",
    "- **1st Qu.** – the 25th percentile, meaning 25% of the scores fall below this point  \n",
    "- **Median** – the 50th percentile, the “middle” score where half the values are below and half above  \n",
    "- **Mean** – the average score, calculated by summing all scores and dividing by the number of scores  \n",
    "- **3rd Qu.** – the 75th percentile, meaning 75% of the scores fall below this point  \n",
    "- **Max.** – the highest score in your data, showing the largest value recorded\n",
    "\n",
    "\n",
    "**Why it matters:**  \n",
    "This one-line summary gives you a quick snapshot of where your data cluster (center), how much they vary (spread), and the key cutoff points (percentiles). It’s an essential sanity check before creating charts or running more advanced analyses.  "
   ]
  },
  {
   "cell_type": "markdown",
   "id": "08288819-ba58-49a3-9946-cc456d66c584",
   "metadata": {},
   "source": [
    "#### Step 5: Assess Distribution Shape (Skewness & Kurtosis)\n",
    "\n",
    "We want to know whether our RawScore values are symmetrically distributed or lopsided, and whether they have heavy tails or are more tightly clustered than a normal bell curve.\n",
    "\n",
    "---\n",
    "\n",
    "**What we’re doing in plain English**  \n",
    "- **Skewness** measures asymmetry:  \n",
    "  - A **positive** skewness means a longer right tail (more extreme high scores).  \n",
    "  - A **negative** skewness means a longer left tail (more extreme low scores).  \n",
    "- **Kurtosis** measures “tailedness”:  \n",
    "  - A **high** kurtosis (> 3) means heavy tails and more outliers than a normal distribution.  \n",
    "  - A **low** kurtosis (< 3) means light tails and fewer outliers.\n",
    "\n",
    "---\n",
    "> **Load the `moments` package**  \n",
    "> Base R does not include built-in functions to calculate skewness and kurtosis. By loading `moments`, we gain easy access to `skewness()` and `kurtosis()`, letting us quickly measure how asymmetric our data are and how heavy its tails are compared to a normal distribution.  \n",
    "\n"
   ]
  },
  {
   "cell_type": "code",
   "execution_count": 7,
   "id": "30504bcc-af5c-47f0-a08b-2db7e507e04c",
   "metadata": {},
   "outputs": [
    {
     "name": "stdout",
     "output_type": "stream",
     "text": [
      "Skewness: -0.2938058 \n"
     ]
    },
    {
     "name": "stdout",
     "output_type": "stream",
     "text": [
      "Kurtosis: 3.06853 \n"
     ]
    }
   ],
   "source": [
    "library(moments)\n",
    "\n",
    "# drop NAs, then calculate\n",
    "skew_raw <- skewness(df$RawScore, na.rm = TRUE)\n",
    "kurt_raw <- kurtosis(df$RawScore, na.rm = TRUE)\n",
    "\n",
    "# show the results\n",
    "cat(\"Skewness:\", skew_raw, \"\\n\")\n",
    "cat(\"Kurtosis:\", kurt_raw, \"\\n\")"
   ]
  },
  {
   "cell_type": "markdown",
   "id": "5864b858-943b-46ce-bc8d-b3c239cfd6c7",
   "metadata": {},
   "source": [
    "#### Interpreting Skewness and Kurtosis\n",
    "\n",
    "- **Skewness: -0.294**  \n",
    "A negative value means the distribution has a longer left tail. In plain terms most scores cluster on the right but a few unusually low scores stretch out to the left\n",
    "\n",
    "- **Kurtosis: 3**  \n",
    "A value of 3 matches the “normal” bell curve. This tells you your data have about the expected number of outliers—no unusually heavy or light tails.\n",
    "\n",
    "**Why it matters**  \n",
    "- Slight left skew (–0.2938) indicates the distribution is close to symmetric, so you likely don’t need to transform or trim low-end scores unless your analysis demands very strict symmetry.\n",
    "- Normal kurtosis (3) means you don’t have more extreme values than usual, so outlier counts are typical.  \n"
   ]
  },
  {
   "cell_type": "markdown",
   "id": "bf8df17a-f1e5-4af7-b5ec-98b058edf3fe",
   "metadata": {},
   "source": [
    "## Next Steps: Data Visualization\n",
    "\n",
    "We’ve completed our summary statistics and are ready to see the data in action. Choose your path:\n",
    "\n",
    "1. **Visualize in R** by opening `04_data_visualization_R.ipynb`  \n",
    "2. **Visualize in Python** by opening `04_data_visualization_Python.ipynb`  \n",
    "\n",
    "Pick the notebook for your preferred language and let’s start creating charts to uncover patterns in our recidivism data!  \n"
   ]
  },
  {
   "cell_type": "code",
   "execution_count": null,
   "id": "dcaad427-307b-443d-9e58-ee8b31d0d9c3",
   "metadata": {},
   "outputs": [],
   "source": []
  }
 ],
 "metadata": {
  "kernelspec": {
   "display_name": "R",
   "language": "R",
   "name": "ir"
  },
  "language_info": {
   "codemirror_mode": "r",
   "file_extension": ".r",
   "mimetype": "text/x-r-source",
   "name": "R",
   "pygments_lexer": "r",
   "version": "4.4.2"
  }
 },
 "nbformat": 4,
 "nbformat_minor": 5
}