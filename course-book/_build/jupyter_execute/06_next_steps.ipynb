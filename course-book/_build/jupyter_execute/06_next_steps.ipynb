{
 "cells": [
  {
   "cell_type": "markdown",
   "id": "2f0cac06-9e73-4461-9eea-ed9d57e61cab",
   "metadata": {},
   "source": [
    "## You’ve Finished Exploratory Data Analysis!\n",
    "\n",
    "<img src=\"../slides/flowchart.png\" alt=\"EDA process flowchart\" style=\"float:right; width:40%; margin:0 0 1em 1em;\"/>\n",
    "\n",
    "### What You’ve Learned\n",
    "- **Clean Your Data**  \n",
    "  Fill in or remove missing values, fix any wrong types (like dates stored as text), and flag unusual numbers.\n",
    "- **Summarize with Numbers**  \n",
    "  Calculate simple stats—averages, medians, “middle 50%” ranges, and how much numbers spread out.\n",
    "- **Draw Pictures**  \n",
    "  Use bar charts, box plots, scatter plots, and color grids to see how your data behave.\n",
    "- **Check Relationships**  \n",
    "  Measure how pairs of numbers move together so you know which ones really belong in your next model.\n",
    "\n",
    "---\n",
    "\n",
    "### What’s Next\n",
    "1. **Create New Variables**  \n",
    "   Brainstorm new numbers that capture important ideas (for example, a “risk per year” score).  \n",
    "2. **Build a Model**  \n",
    "   Use your cleaned data and new variables to predict outcomes—like who will reoffend—using simple algorithms.  \n",
    "3. **Test Your Model**  \n",
    "   See how well it works using real measures (accuracy, miss rates, etc.).  \n",
    "4. **Share Your Story**  \n",
    "   Put your charts, numbers, and code into a clear report or notebook so others can understand and repeat your work.\n",
    "\n",
    "---\n",
    "<audio controls src=\"../audio/EDA Final Thoughts.m4a\">\n"
   ]
  },
  {
   "cell_type": "code",
   "execution_count": null,
   "id": "05e4e493-9b84-42dd-a3f6-814b40313516",
   "metadata": {},
   "outputs": [],
   "source": []
  }
 ],
 "metadata": {
  "kernelspec": {
   "display_name": "",
   "name": ""
  },
  "language_info": {
   "codemirror_mode": {
    "name": "ipython",
    "version": 3
   },
   "file_extension": ".py",
   "mimetype": "text/x-python",
   "name": "python",
   "nbconvert_exporter": "python",
   "pygments_lexer": "ipython3",
   "version": "3.13.5"
  }
 },
 "nbformat": 4,
 "nbformat_minor": 5
}